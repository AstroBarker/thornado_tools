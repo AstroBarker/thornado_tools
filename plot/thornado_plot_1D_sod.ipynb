{
 "cells": [
  {
   "cell_type": "markdown",
   "metadata": {},
   "source": [
    "### Plot _thornado_ data"
   ]
  },
  {
   "cell_type": "markdown",
   "metadata": {},
   "source": [
    "Notebook for quick plotting of 1D _thornado_ data. \n",
    "\n",
    "---\n",
    "\n",
    "To Do:  \n",
    "\n",
    "* Make it easier to select what to plot. Currently: Very Manual \n",
    "* Want easier use for data from multiple runs"
   ]
  },
  {
   "cell_type": "code",
   "execution_count": 1,
   "metadata": {},
   "outputs": [],
   "source": [
    "import h5py    \n",
    "import numpy as np  \n",
    "import matplotlib as mpl\n",
    "import matplotlib.pyplot as plt\n",
    "%matplotlib ipympl"
   ]
  },
  {
   "cell_type": "code",
   "execution_count": 2,
   "metadata": {},
   "outputs": [],
   "source": [
    "mpl.rcParams['lines.linewidth'] = 3\n",
    "mpl.rcParams['legend.handlelength']=4\n",
    "mpl.rcParams['legend.fontsize']=14\n",
    "mpl.rcParams['legend.frameon']=False\n",
    "mpl.rcParams['axes.labelsize']=20\n",
    "mpl.rcParams['xtick.minor.visible']=True\n",
    "mpl.rcParams['ytick.minor.visible']=True\n",
    "mpl.rcParams['axes.linewidth'] = 2\n",
    "mpl.rcParams['xtick.major.width'] = 2\n",
    "mpl.rcParams['ytick.major.width'] = 2\n",
    "mpl.rcParams['xtick.minor.width'] = 2\n",
    "mpl.rcParams['ytick.minor.width'] = 2\n",
    "mpl.rcParams['xtick.labelsize']   = 14\n",
    "mpl.rcParams['ytick.labelsize']   = 14"
   ]
  },
  {
   "cell_type": "markdown",
   "metadata": {},
   "source": [
    "Data Directory. Simply change `simName` to the desired simulation. Later will likely have to modify."
   ]
  },
  {
   "cell_type": "code",
   "execution_count": 3,
   "metadata": {},
   "outputs": [],
   "source": [
    "sims = [\"100_B1.0_C0.0_3\"]\n",
    "fields = [ 'uAF_P', 'uAF_Ye', 'uPF_V1', 'uCF_D', 'uCF_Ne' ]\n",
    "simName = \"Sod\"\n",
    "simType = \"nuclear\" #Currently: \"ideal\" or \"nuclear\"\n",
    "sim_cw = \"cw_100_B1.0_C0.0_3\" #The desired run\n",
    "sim  = \"paramStudy/100_B1.0_C0.0_3\"\n",
    "sim_ref = \"reference\" #Analytic, for comparison\n",
    "\n",
    "dataDir = \"../../data/\" + simName + \"/\" + simType + \"/\" + sim\n",
    "dataDir_cw = \"../../data/\" + simName + \"/\" + simType + \"/\" + sim_cw \n",
    "dataDir_ref = \"../../data/\" + simName + \"/\" + simType + \"/\" + sim_ref"
   ]
  },
  {
   "cell_type": "markdown",
   "metadata": {},
   "source": [
    "Setup figure directory"
   ]
  },
  {
   "cell_type": "code",
   "execution_count": 4,
   "metadata": {},
   "outputs": [],
   "source": [
    "figDir = \"../figures/\""
   ]
  },
  {
   "cell_type": "markdown",
   "metadata": {},
   "source": [
    "For now, manually specify the `fileNumber`. Possibly add in ways to automatically get the max."
   ]
  },
  {
   "cell_type": "code",
   "execution_count": 5,
   "metadata": {},
   "outputs": [],
   "source": [
    "fileNumber = \"000102\"\n",
    "#fileName = dataDir + '/' + simName + '_FluidFields_' + fileNumber + '.h5' \n",
    "fileName = dataDir + '/' + 'RiemannProblem' + '_FluidFields_' + fileNumber + '.h5' \n",
    "fileName_cw  = dataDir_cw + '/' + 'RiemannProblem' + '_FluidFields_' + fileNumber + '.h5'\n",
    "fileName_ref = dataDir_ref + '/' + 'RiemannProblem' + '_FluidFields_' + fileNumber + '.h5'\n",
    "\n",
    "mb = 1.660539 * pow(10,-24)"
   ]
  },
  {
   "cell_type": "markdown",
   "metadata": {},
   "source": [
    "Read the Data"
   ]
  },
  {
   "cell_type": "code",
   "execution_count": 49,
   "metadata": {},
   "outputs": [
    {
     "name": "stdout",
     "output_type": "stream",
     "text": [
      "Fluid Fields\n",
      "Shock Detector\n",
      "Spatial Grid\n",
      "Time\n",
      "Time: 0.025 ms\n",
      "Fluid Fields\n",
      "Shock Detector\n",
      "Spatial Grid\n",
      "Time\n",
      "Time: 0.025 ms\n",
      "Fluid Fields\n",
      "Shock Detector\n",
      "Spatial Grid\n",
      "Time\n",
      "Time: 0.025 ms\n"
     ]
    }
   ],
   "source": [
    "with h5py.File(fileName, 'r') as f:\n",
    "    for key in f.keys():\n",
    "        print(key)\n",
    "    \n",
    "    time = f['Time'][:]\n",
    "\n",
    "    x1 = f['/Spatial Grid/X1'][:]\n",
    "    \n",
    "    uAF_P  = f['/Fluid Fields/Auxiliary/Pressure'][:]\n",
    "    uAF_Ye = f['/Fluid Fields/Auxiliary/Electron Fraction'][:]\n",
    "    \n",
    "    uPF_V1 = f['/Fluid Fields/Primitive/Three-Velocity (1)' ][:]\n",
    "    \n",
    "    uCF_D = f['/Fluid Fields/Conserved/Conserved Baryon Density'][:]\n",
    "    uCF_Ne = f['/Fluid Fields/Conserved/Conserved Electron Density'][:]\n",
    "    \n",
    "    print(\"Time:\", float(time), \"ms\")\n",
    "    \n",
    "### With componentwise limiting    \n",
    "with h5py.File(fileName_cw, 'r') as f:\n",
    "    for key in f.keys():\n",
    "        print(key)\n",
    "    \n",
    "    time = f['Time'][:]\n",
    "\n",
    "    x1_cw = f['/Spatial Grid/X1'][:]\n",
    "    \n",
    "    uAF_P_cw  = f['/Fluid Fields/Auxiliary/Pressure'][:]\n",
    "    uAF_T_cw = f['/Fluid Fields/Auxiliary/Temperature'][:]\n",
    "    uAF_Ye_cw = f['/Fluid Fields/Auxiliary/Electron Fraction'][:]\n",
    "    \n",
    "    uPF_V1_cw  = f['/Fluid Fields/Primitive/Three-Velocity (1)' ][:]\n",
    "    \n",
    "    uCF_D_cw  = f['/Fluid Fields/Conserved/Conserved Baryon Density'][:]\n",
    "    uCF_Ne_cw  = f['/Fluid Fields/Conserved/Conserved Electron Density'][:]\n",
    "    \n",
    "    print(\"Time:\", float(time), \"ms\")    \n",
    "    \n",
    "\n",
    " ### The 'analytic' run   \n",
    "with h5py.File(fileName_ref, 'r') as f:\n",
    "    for key in f.keys():\n",
    "        print(key)\n",
    "    \n",
    "    time = f['Time'][:]\n",
    "\n",
    "    x1_ref = f['/Spatial Grid/X1'][:]\n",
    "\n",
    "    uAF_P_ref  = f['/Fluid Fields/Auxiliary/Pressure'][:]\n",
    "    uAF_Ye_ref = f['/Fluid Fields/Auxiliary/Electron Fraction'][:]\n",
    "    \n",
    "    uPF_V1_ref = f['/Fluid Fields/Primitive/Three-Velocity (1)' ][:]\n",
    "    \n",
    "    uCF_D_ref = f['/Fluid Fields/Conserved/Conserved Baryon Density'][:]\n",
    "    uCF_Ne_ref = f['/Fluid Fields/Conserved/Conserved Electron Density'][:]\n",
    "    \n",
    "    print(\"Time:\", float(time), \"ms\")   \n",
    "           "
   ]
  },
  {
   "cell_type": "markdown",
   "metadata": {},
   "source": [
    "Read the desired fields into a python dictionary."
   ]
  },
  {
   "cell_type": "code",
   "execution_count": 50,
   "metadata": {},
   "outputs": [],
   "source": [
    "data = {}\n",
    "\n",
    "data[sims[i]] = {}\n",
    "data[sims[i]]['x1'] = x1[:]\n",
    "data[sims[i]][fields[0]] = uAF_P[0][0][:]\n",
    "data[sims[i]][fields[1]] = mb * uCF_Ne[0][0][:] / uCF_D[0][0][:]#uAF_Ye[0][0][:]\n",
    "data[sims[i]][fields[2]] = uPF_V1[0][0][:]\n",
    "data[sims[i]][fields[3]] = uCF_D[0][0][:]\n",
    "data[sims[i]][fields[4]] = uCF_Ne[0][0][:]\n",
    "\n",
    "data_cw = {}\n",
    "\n",
    "data_cw[sims[i]] = {}\n",
    "data_cw[sims[i]]['x1'] = x1[:]\n",
    "data_cw[sims[i]][fields[0]] = uAF_P_cw[0][0][:]\n",
    "data_cw[sims[i]][fields[1]] = mb * uCF_Ne_cw[0][0][:] / uCF_D_cw[0][0][:]#uAF_Ye[0][0][:]\n",
    "data_cw[sims[i]][fields[2]] = uPF_V1_cw[0][0][:]\n",
    "data_cw[sims[i]][fields[3]] = uCF_D_cw[0][0][:]\n",
    "data_cw[sims[i]][fields[4]] = uCF_Ne_cw[0][0][:]\n",
    "\n",
    "data_ref = {}\n",
    "\n",
    "data_ref['uCF_D'] = uCF_D_ref[0][0][:]\n",
    "data_ref['uAF_Ye'] = mb * uCF_Ne_ref[0][0][:] / uCF_D_an[0][0][:]\n",
    "data_ref['uCF_Ne'] = uCF_Ne_ref[0][0][:]\n",
    "data_ref['uAF_P'] = uAF_P_ref[0][0][:]\n",
    "data_ref['uPF_V1'] = uPF_V1_ref[0][0][:]\n",
    "\n"
   ]
  },
  {
   "cell_type": "markdown",
   "metadata": {},
   "source": [
    "Compute Cell Averages"
   ]
  },
  {
   "cell_type": "code",
   "execution_count": 51,
   "metadata": {},
   "outputs": [],
   "source": [
    "nNodes = 3\n",
    "wG = [ 5.0/(1*18.0), 8.0/(1*18.0), 5.0/(1*18.0) ]\n",
    "N_N = len(x1)\n",
    "\n",
    "N_K = N_N / nNodes\n",
    "\n",
    "#Make this nicer by creating a summation over len(fields)\n",
    "data_avg = {}\n",
    "for i in range( len( sims ) ):\n",
    "    data_avg[sims[i]] = {}\n",
    "    data_avg[sims[i]]['x1'] = np.zeros(int(N_K)) #Create arrays of length N_K\n",
    "    data_avg[sims[i]][fields[0]] = np.zeros(int(N_K))\n",
    "    data_avg[sims[i]][fields[1]] = np.zeros(int(N_K))\n",
    "    data_avg[sims[i]][fields[2]] = np.zeros(int(N_K))\n",
    "    data_avg[sims[i]][fields[3]] = np.zeros(int(N_K))\n",
    "    data_avg[sims[i]][fields[4]] = np.zeros(int(N_K))\n",
    "    for j in range(int(N_K)):\n",
    "        data_avg[sims[i]]['x1'][j] = (np.sum( wG * data[sims[i]]['x1'][(j)*nNodes:(j+1)*nNodes] ))\n",
    "        data_avg[sims[i]][fields[0]][j] = np.sum( wG * data[sims[i]][fields[0]][(j)*nNodes:(j+1)*nNodes] )\n",
    "        data_avg[sims[i]][fields[1]][j] = np.sum( wG * data[sims[i]][fields[1]][(j)*nNodes:(j+1)*nNodes] )\n",
    "        data_avg[sims[i]][fields[2]][j] = np.sum( wG * data[sims[i]][fields[2]][(j)*nNodes:(j+1)*nNodes] )\n",
    "        data_avg[sims[i]][fields[3]][j] = np.sum( wG * data[sims[i]][fields[3]][(j)*nNodes:(j+1)*nNodes] )\n",
    "        data_avg[sims[i]][fields[4]][j] = np.sum( wG * data[sims[i]][fields[4]][(j)*nNodes:(j+1)*nNodes] )\n",
    "        \n",
    "data_avg_cw = {}\n",
    "for i in range( len( sims ) ):\n",
    "    data_avg_cw[sims[i]] = {}\n",
    "    data_avg_cw[sims[i]]['x1'] = np.zeros(int(N_K)) #Create arrays of length N_K\n",
    "    data_avg_cw[sims[i]][fields[0]] = np.zeros(int(N_K))\n",
    "    data_avg_cw[sims[i]][fields[1]] = np.zeros(int(N_K))\n",
    "    data_avg_cw[sims[i]][fields[2]] = np.zeros(int(N_K))\n",
    "    data_avg_cw[sims[i]][fields[3]] = np.zeros(int(N_K))\n",
    "    data_avg_cw[sims[i]][fields[4]] = np.zeros(int(N_K))\n",
    "    for j in range(int(N_K)):\n",
    "        data_avg_cw[sims[i]]['x1'][j] = (np.sum( wG * data[sims[i]]['x1'][(j)*nNodes:(j+1)*nNodes] ))\n",
    "        data_avg_cw[sims[i]][fields[0]][j] = np.sum( wG * data_cw[sims[i]][fields[0]][(j)*nNodes:(j+1)*nNodes] )\n",
    "        data_avg_cw[sims[i]][fields[1]][j] = np.sum( wG * data_cw[sims[i]][fields[1]][(j)*nNodes:(j+1)*nNodes] )\n",
    "        data_avg_cw[sims[i]][fields[2]][j] = np.sum( wG * data_cw[sims[i]][fields[2]][(j)*nNodes:(j+1)*nNodes] )\n",
    "        data_avg_cw[sims[i]][fields[3]][j] = np.sum( wG * data_cw[sims[i]][fields[3]][(j)*nNodes:(j+1)*nNodes] )\n",
    "        data_avg_cw[sims[i]][fields[4]][j] = np.sum( wG * data_cw[sims[i]][fields[4]][(j)*nNodes:(j+1)*nNodes] )        "
   ]
  },
  {
   "cell_type": "markdown",
   "metadata": {},
   "source": [
    "Plot! Compare to 'Analytic'"
   ]
  },
  {
   "cell_type": "code",
   "execution_count": 52,
   "metadata": {},
   "outputs": [
    {
     "data": {
      "application/vnd.jupyter.widget-view+json": {
       "model_id": "5fefc1dccd72491eb1048894e85f30a3",
       "version_major": 2,
       "version_minor": 0
      },
      "text/plain": [
       "FigureCanvasNbAgg()"
      ]
     },
     "metadata": {},
     "output_type": "display_data"
    }
   ],
   "source": [
    "fig, cax = plt.subplots(1, sharex=True,figsize=(7,7))\n",
    "\n",
    "cax.plot(data_avg[sims[0]]['x1'],data_avg[sims[0]]['uCF_D'], marker='.',label=\"Characteristic Limiting\", color = \"blue\")\n",
    "#cax.plot(x1_lowD,100*data_lowD['uCF_D'], linestyle='-',marker='.',markersize=2,linewidth=0.75, label=\"Characteristic Limiting\", color=\"red\", alpha=1.0)\n",
    "cax.plot(data_avg_cw[sims[0]]['x1'],data_avg_cw[sims[0]]['uCF_D'], marker='.',label=\"Componentwise Limiting\", color=\"green\", alpha=1.0)\n",
    "cax.plot(x1_ref,data_ref['uCF_D'],label=\"Reference\")\n",
    "\n",
    "\n",
    "\n",
    "cax.legend()\n",
    "fig.suptitle(\"Sod Shock Tube: nX=100, nNodes=3\")\n",
    "# for ax in cax.flat:\n",
    "#     ax.set(xlabel='x-label', ylabel='y-label')\n",
    "\n",
    "cax.set(xlabel=\"x [km]\",ylabel = r'Density [g/cm$^3$]')\n",
    "\n",
    "#plt.savefig(figDir+\"sod_nuclear_char_t.png\", dpi=300, format=\"png\")\n",
    "\n",
    "plt.show()"
   ]
  },
  {
   "cell_type": "markdown",
   "metadata": {},
   "source": [
    "Plot! Ye"
   ]
  },
  {
   "cell_type": "code",
   "execution_count": 53,
   "metadata": {},
   "outputs": [
    {
     "data": {
      "application/vnd.jupyter.widget-view+json": {
       "model_id": "6c6975170321492187f4d1731b544325",
       "version_major": 2,
       "version_minor": 0
      },
      "text/plain": [
       "FigureCanvasNbAgg()"
      ]
     },
     "metadata": {},
     "output_type": "display_data"
    }
   ],
   "source": [
    "fig, cax = plt.subplots(1, sharex=True,figsize=(7,7))\n",
    "\n",
    "cax.plot(data_avg[sims[0]]['x1'],data_avg[sims[0]]['uAF_Ye'], marker='.',label=\"Characteristic Limiting\", color = \"blue\")\n",
    "cax.plot(data_avg_cw[sims[0]]['x1'],data_avg_cw[sims[0]]['uAF_Ye'], marker='.',label=\"Componentwise Limiting\", color=\"green\", alpha=1.0)\n",
    "cax.plot(x1_ref,data_ref['uAF_Ye'],label=\"Reference\")\n",
    "\n",
    "\n",
    "\n",
    "cax.legend()\n",
    "fig.suptitle(\"Sod Shock Tube: nX=100, nNodes=3\")\n",
    "# for ax in cax.flat:\n",
    "#     ax.set(xlabel='x-label', ylabel='y-label')\n",
    "\n",
    "cax.set(xlabel=\"x [km]\",ylabel = r'Electron Fraction')\n",
    "\n",
    "#plt.savefig(figDir+\"sod_nuclear_char_t.png\", dpi=300, format=\"png\")\n",
    "\n",
    "plt.show()"
   ]
  },
  {
   "cell_type": "markdown",
   "metadata": {},
   "source": [
    "Print! Pressure"
   ]
  },
  {
   "cell_type": "code",
   "execution_count": 12,
   "metadata": {},
   "outputs": [
    {
     "data": {
      "image/png": "[encoded data removed]",
      "text/plain": [
       "<Figure size 504x504 with 1 Axes>"
      ]
     },
     "metadata": {
      "needs_background": "light"
     },
     "output_type": "display_data"
    }
   ],
   "source": [
    "fig, ax1 = plt.subplots(figsize=(7,7))\n",
    "\n",
    "ax2 = plt.plot(x1_cw,data_cw['uAF_P'], linestyle='-', marker='o',linewidth=1.0, label=\"No Characteristic Limiting\", color = \"blue\")\n",
    "ax1 = plt.plot(x1,data['uAF_P'], linestyle='-', marker='.',linewidth=0.75, label=\"Characteristic Limiting\", color=\"red\", alpha=1.0)\n",
    "\n",
    "plt.legend()\n",
    "plt.title(\"Sod Shock Tube: nX=100, nNodes=3\")\n",
    "plt.xlabel(\"x [km]\")\n",
    "plt.ylabel(r\"Pressure [erg/cm$^3$]\")\n",
    "\n",
    "#plt.savefig(figDir+\"sod_nuclear_char_t.png\", dpi=300, format=\"png\")\n",
    "\n",
    "plt.show()"
   ]
  },
  {
   "cell_type": "markdown",
   "metadata": {},
   "source": [
    "Plot! Velocity"
   ]
  },
  {
   "cell_type": "code",
   "execution_count": 13,
   "metadata": {},
   "outputs": [
    {
     "data": {
      "image/png": "[encoded data removed]",
      "text/plain": [
       "<Figure size 504x504 with 1 Axes>"
      ]
     },
     "metadata": {
      "needs_background": "light"
     },
     "output_type": "display_data"
    }
   ],
   "source": [
    "fig, ax1 = plt.subplots(figsize=(7,7))\n",
    "\n",
    "ax2 = plt.plot(x1_cw,data_cw['uPF_V1'], linestyle='-', marker='o',linewidth=1.0, label=\"No Characteristic Limiting\", color = \"blue\")\n",
    "ax1 = plt.plot(x1,data['uPF_V1'], linestyle='-', marker='.',linewidth=0.75, label=\"Characteristic Limiting\", color=\"red\", alpha=1.0)\n",
    "\n",
    "plt.legend()\n",
    "plt.title(\"Sod Shock Tube: nX=100, nNodes=3\")\n",
    "plt.xlabel(\"x [km]\")\n",
    "plt.ylabel(r\"x-Velocity [km/s]\")\n",
    "\n",
    "#plt.savefig(figDir+\"sod_nuclear_char_t.png\", dpi=300, format=\"png\")\n",
    "\n",
    "plt.show()"
   ]
  },
  {
   "cell_type": "markdown",
   "metadata": {},
   "source": [
    "Plot! Electron Fraction"
   ]
  },
  {
   "cell_type": "code",
   "execution_count": 22,
   "metadata": {},
   "outputs": [
    {
     "data": {
      "image/png": "[encoded data removed]",
      "text/plain": [
       "<Figure size 648x648 with 1 Axes>"
      ]
     },
     "metadata": {
      "needs_background": "light"
     },
     "output_type": "display_data"
    }
   ],
   "source": [
    "fig, ax1 = plt.subplots(1,figsize=(9,9))\n",
    "\n",
    "ye_char = []\n",
    "ye_char[:] = data['uCF_Ne'][:]* mb / data['uCF_D'][:]\n",
    "\n",
    "ye_cw = []\n",
    "ye_cw[:] = data_cw['uCF_Ne'][:]* mb / data_cw['uCF_D'][:]\n",
    "\n",
    "ye_test = []\n",
    "ye_test[:] = data_test['uCF_Ne'][:]* mb / data_test['uCF_D'][:]\n",
    "\n",
    "ax1.plot(x1,ye_cw, linestyle='-', marker='.',linewidth=1.0, label=\"No Characteristic Limiting\", color = \"blue\")\n",
    "ax1.plot(x1,ye_char, linestyle='-', marker='.',linewidth=0.75, label=\"Characteristic Limiting, OLD\", color=\"red\", alpha=1.0)\n",
    "ax1.plot(x1_test,ye_test, linestyle='-', marker='.',linewidth=0.75, label=\"Characteristic Limiting\", color=\"black\", alpha=1.0)\n",
    "\n",
    "\n",
    "\n",
    "ax1.legend()\n",
    "plt.title(\"Sod Shock Tube: nX=100, nNodes=3\")\n",
    "ax1.set(xlabel='x [km]',ylabel=\"Electron Fraction\")\n",
    "\n",
    "#plt.savefig(figDir+\"sod_nuclear_char_t.png\", dpi=300, format=\"png\")\n",
    "\n",
    "plt.show()"
   ]
  },
  {
   "cell_type": "markdown",
   "metadata": {},
   "source": [
    "Plot! Electron Density"
   ]
  },
  {
   "cell_type": "code",
   "execution_count": 34,
   "metadata": {},
   "outputs": [
    {
     "data": {
      "application/vnd.jupyter.widget-view+json": {
       "model_id": "42e83de5aa3048bfa8f57b6096f8d526",
       "version_major": 2,
       "version_minor": 0
      },
      "text/plain": [
       "FigureCanvasNbAgg()"
      ]
     },
     "metadata": {},
     "output_type": "display_data"
    }
   ],
   "source": [
    "fig, ax1 = plt.subplots(1,figsize=(7,7))\n",
    "\n",
    "ax1.plot(x1_cw,data_cw['uCF_Ne'], linestyle='-', marker='o',linewidth=1.0, label=\"No Characteristic Limiting\", color = \"blue\")\n",
    "ax1.plot(x1,data['uCF_Ne'], linestyle='-', marker='.',linewidth=0.75, label=\"Characteristic Limiting\", color=\"red\", alpha=1.0)\n",
    "ax1.plot(x1,data['uCF_D']/mb, linestyle='-', marker='.',linewidth=0.75, label=\"Characteristic Limiting (D)\", alpha=1.0)\n",
    "\n",
    "ax1.legend()\n",
    "plt.title(\"Sod Shock Tube: nX=100, nNodes=3\")\n",
    "ax1.set(xlabel='x [km]',ylabel=\"Electron Density [Units]\")\n",
    "\n",
    "#plt.savefig(figDir+\"sod_nuclear_char_t.png\", dpi=300, format=\"png\")\n",
    "\n",
    "plt.show()"
   ]
  },
  {
   "cell_type": "markdown",
   "metadata": {},
   "source": [
    "Testing the bugs"
   ]
  },
  {
   "cell_type": "code",
   "execution_count": 10,
   "metadata": {},
   "outputs": [
    {
     "data": {
      "application/vnd.jupyter.widget-view+json": {
       "model_id": "170c3e43f8954b0da7be312387b0437f",
       "version_major": 2,
       "version_minor": 0
      },
      "text/plain": [
       "FigureCanvasNbAgg()"
      ]
     },
     "metadata": {},
     "output_type": "display_data"
    }
   ],
   "source": [
    "fig, cax = plt.subplots(1, sharex=True,figsize=(7,7))\n",
    "\n",
    "cax.plot(x1_an,data_an['uCF_D'], linestyle='-', marker='.',markersize=2,linewidth=3.0, label=\"Reference\", color = \"blue\")\n",
    "cax.plot(x1,data['uCF_D'], linestyle='-',marker='.',markersize=2,linewidth=0.75, label=\"Characteristic Limiting, OLD\", color=\"red\", alpha=1.0)\n",
    "cax.plot(x1_test,data_test['uCF_D'], linestyle='-',marker='.',markersize=2,linewidth=0.75, label=\"Characteristic Limiting, NEW\", color=\"black\", alpha=1.0)\n",
    "\n",
    "\n",
    "#cax.plot(x1_cw,data_cw['uCF_D'], linestyle='-', marker='.',markersize=2,linewidth=0.75, label=\"Componentwise Limiting\", color=\"green\", alpha=1.0)\n",
    "\n",
    "\n",
    "\n",
    "cax.legend()\n",
    "fig.suptitle(\"Sod Shock Tube: nX=100, nNodes=3\")\n",
    "# for ax in cax.flat:\n",
    "#     ax.set(xlabel='x-label', ylabel='y-label')\n",
    "\n",
    "cax.set(xlabel=\"x [km]\",ylabel = r'Density [g/cm$^3$]')\n",
    "\n",
    "#plt.savefig(figDir+\"sod_nuclear_char_t.png\", dpi=300, format=\"png\")\n",
    "\n",
    "plt.show()"
   ]
  },
  {
   "cell_type": "code",
   "execution_count": 32,
   "metadata": {},
   "outputs": [
    {
     "data": {
      "text/plain": [
       "(300,)"
      ]
     },
     "execution_count": 32,
     "metadata": {},
     "output_type": "execute_result"
    }
   ],
   "source": [
    "np.shape(x1_test)\n",
    "np.shape(x1)"
   ]
  },
  {
   "cell_type": "code",
   "execution_count": null,
   "metadata": {},
   "outputs": [],
   "source": []
  }
 ],
 "metadata": {
  "kernelspec": {
   "display_name": "Python 3",
   "language": "python",
   "name": "python3"
  },
  "language_info": {
   "codemirror_mode": {
    "name": "ipython",
    "version": 3
   },
   "file_extension": ".py",
   "mimetype": "text/x-python",
   "name": "python",
   "nbconvert_exporter": "python",
   "pygments_lexer": "ipython3",
   "version": "3.7.4"
  }
 },
 "nbformat": 4,
 "nbformat_minor": 4
}
