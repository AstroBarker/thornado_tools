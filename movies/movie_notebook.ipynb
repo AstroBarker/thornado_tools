{
 "cells": [
  {
   "cell_type": "markdown",
   "metadata": {
    "toc-hr-collapsed": false
   },
   "source": [
    "## Movies\n",
    "\n",
    "This notebook is to produce movies made with the `MakeMovie1D.py` script. These movies are to study the behavior of the \n",
    "characteristic limiting scheme at the nuclear phase transition. "
   ]
  },
  {
   "cell_type": "markdown",
   "metadata": {},
   "source": [
    "### TO DO:\n",
    "* Update Images directory struture: account for sim type\n",
    "* ???"
   ]
  },
  {
   "cell_type": "code",
   "execution_count": 1,
   "metadata": {},
   "outputs": [],
   "source": [
    "from MakeMovie1D import *\n",
    "import sys\n",
    "import os\n",
    "import numpy as np"
   ]
  },
  {
   "cell_type": "markdown",
   "metadata": {},
   "source": [
    "### Setup"
   ]
  },
  {
   "cell_type": "markdown",
   "metadata": {},
   "source": [
    "#### Controls\n",
    "Set some basic controls.\n",
    "\n",
    "--------\n",
    "\n",
    "Mode: Either Ref (Reference) or Comp (Compare).\n",
    "\n",
    "dataDir: location of data (normally './').\n",
    "\n",
    "field_x, field_y: The quantities to plot, in _thornado_ syntax"
   ]
  },
  {
   "cell_type": "code",
   "execution_count": 22,
   "metadata": {},
   "outputs": [],
   "source": [
    "# Ensure that we're in the proper directory. The movie script moves directories.\n",
    "workDir = '/Users/bbarker/dgHydro/analysis/data/1d/phaseTransition'\n",
    "os.chdir(workDir)\n",
    "\n",
    "mode = 'comp'\n",
    "dataDir = '.'\n",
    "field_x = 'x1'\n",
    "field_y = 'uCF_D'\n",
    "sim = '400_B1.75_C0.0_n3_scaledEigen'"
   ]
  },
  {
   "cell_type": "markdown",
   "metadata": {},
   "source": [
    "#### Write data to json file.\n",
    "\n",
    "Call `get_data`. This will write a json file containing all of the relevant data for the specified `mode`. \n",
    "If `mode` is `comp` then the json file will contain data for the componentwise and characteristic limiting cases.\n",
    "If `ref`, then the json file contains the data for the `nx=10000` reference run."
   ]
  },
  {
   "cell_type": "code",
   "execution_count": 23,
   "metadata": {},
   "outputs": [],
   "source": [
    "%%capture\n",
    "#This supresses the output from get_data. It's quite too much for a notebook.\n",
    "\n",
    "\n",
    "fn = get_data(dataDir, mode, sim)"
   ]
  },
  {
   "cell_type": "markdown",
   "metadata": {},
   "source": [
    "### Make the Movie\n",
    "\n",
    "MakeMovie1D takes three parameters: the json filename, the mode, and a field to plot."
   ]
  },
  {
   "cell_type": "code",
   "execution_count": 24,
   "metadata": {},
   "outputs": [],
   "source": [
    "%%capture\n",
    "MakeMovie(fn, mode, field_x, field_y)"
   ]
  },
  {
   "cell_type": "code",
   "execution_count": 25,
   "metadata": {},
   "outputs": [],
   "source": [
    "dirpath = os.getcwd()\n",
    "\n",
    "# outDir = dirpath + '/Images_' + str(field) + '_' + str(mode) + '/'\n",
    "movie = dirpath + '/output.mp4'"
   ]
  },
  {
   "cell_type": "code",
   "execution_count": 26,
   "metadata": {},
   "outputs": [
    {
     "data": {
      "application/vnd.jupyter.widget-view+json": {
       "model_id": "b5a76ae6d58f43c09a023a65f4a37a27",
       "version_major": 2,
       "version_minor": 0
      },
      "text/plain": [
       "Video(value=b'\\x00\\x00\\x00 ftypisom\\x00\\x00\\x02\\x00isomiso2avc1mp41\\x00\\x00\\x00\\x08free\\x00\\x05\\xef4mdat\\x00\\x…"
      ]
     },
     "metadata": {},
     "output_type": "display_data"
    }
   ],
   "source": [
    "from ipywidgets import Video\n",
    "\n",
    "video = Video.from_file(movie)\n",
    "video"
   ]
  },
  {
   "cell_type": "code",
   "execution_count": 38,
   "metadata": {},
   "outputs": [],
   "source": [
    "othermovie = workDir + '/Images/400_B1.75_C0.0_n3/x1_uCF_D_comp/output.mp4'"
   ]
  },
  {
   "cell_type": "markdown",
   "metadata": {},
   "source": [
    "### Scratch Notes\n",
    "---\n",
    "\n"
   ]
  },
  {
   "cell_type": "code",
   "execution_count": 39,
   "metadata": {},
   "outputs": [
    {
     "data": {
      "application/vnd.jupyter.widget-view+json": {
       "model_id": "2723ecef6c604a13b402b0173121b177",
       "version_major": 2,
       "version_minor": 0
      },
      "text/plain": [
       "Video(value=b'\\x00\\x00\\x00 ftypisom\\x00\\x00\\x02\\x00isomiso2avc1mp41\\x00\\x00\\x00\\x08free\\x00\\x05\\xceEmdat\\x00\\x…"
      ]
     },
     "metadata": {},
     "output_type": "display_data"
    }
   ],
   "source": [
    "video = Video.from_file(othermovie)\n",
    "video"
   ]
  },
  {
   "cell_type": "code",
   "execution_count": null,
   "metadata": {},
   "outputs": [],
   "source": []
  }
 ],
 "metadata": {
  "kernelspec": {
   "display_name": "Python 3",
   "language": "python",
   "name": "python3"
  },
  "language_info": {
   "codemirror_mode": {
    "name": "ipython",
    "version": 3
   },
   "file_extension": ".py",
   "mimetype": "text/x-python",
   "name": "python",
   "nbconvert_exporter": "python",
   "pygments_lexer": "ipython3",
   "version": "3.7.5"
  }
 },
 "nbformat": 4,
 "nbformat_minor": 4
}
